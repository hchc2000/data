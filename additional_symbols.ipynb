{
 "cells": [
  {
   "cell_type": "code",
   "execution_count": 1,
   "metadata": {},
   "outputs": [
    {
     "name": "stdout",
     "output_type": "stream",
     "text": [
      "{'WDAY', 'MRVL', 'TTD', 'CCEP', 'ASML', 'MELI', 'ARM', 'MDB', 'PDD', 'ZS', 'ILMN', 'DASH', 'GFS', 'AZN', 'DDOG', 'TEAM'}\n"
     ]
    }
   ],
   "source": [
    "import pandas as pd\n",
    "\n",
    "# Get Nasdaq-100 constituents\n",
    "nasdaq100_url = 'https://en.wikipedia.org/wiki/NASDAQ-100'\n",
    "nasdaq100_table = pd.read_html(nasdaq100_url, match=\"Ticker\")[0]\n",
    "nasdaq100_tickers = nasdaq100_table['Ticker'].tolist()\n",
    "\n",
    "# Get S&P 500 constituents\n",
    "sp500_url = 'https://en.wikipedia.org/wiki/List_of_S%26P_500_companies'\n",
    "sp500_table = pd.read_html(sp500_url, match=\"Symbol\")[0]\n",
    "sp500_tickers = sp500_table['Symbol'].tolist()\n",
    "\n",
    "# Find companies in Nasdaq-100 but not in S&P 500\n",
    "nasdaq_only = set(nasdaq100_tickers) - set(sp500_tickers)\n",
    "\n",
    "print(nasdaq_only)"
   ]
  },
  {
   "cell_type": "code",
   "execution_count": 3,
   "metadata": {},
   "outputs": [],
   "source": [
    "pd.DataFrame(nasdaq_only, columns=['Symbol']).to_csv('data/nasdaq_only.csv', index=False)\n",
    "\n"
   ]
  },
  {
   "cell_type": "code",
   "execution_count": null,
   "metadata": {},
   "outputs": [],
   "source": []
  }
 ],
 "metadata": {
  "kernelspec": {
   "display_name": "Python 3",
   "language": "python",
   "name": "python3"
  },
  "language_info": {
   "codemirror_mode": {
    "name": "ipython",
    "version": 3
   },
   "file_extension": ".py",
   "mimetype": "text/x-python",
   "name": "python",
   "nbconvert_exporter": "python",
   "pygments_lexer": "ipython3",
   "version": "3.11.9"
  }
 },
 "nbformat": 4,
 "nbformat_minor": 2
}
