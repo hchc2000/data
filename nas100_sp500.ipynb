import pandas as pd

# Get Nasdaq-100 constituents
nasdaq100_url = 'https://en.wikipedia.org/wiki/NASDAQ-100'
nasdaq100_table = pd.read_html(nasdaq100_url, match="Ticker")[0]
nasdaq100_tickers = nasdaq100_table['Ticker'].tolist()

# Get S&P 500 constituents
sp500_url = 'https://en.wikipedia.org/wiki/List_of_S%26P_500_companies'
sp500_table = pd.read_html(sp500_url, match="Symbol")[0]
sp500_tickers = sp500_table['Symbol'].tolist()

# Find companies in Nasdaq-100 but not in S&P 500
nasdaq_only = set(nasdaq100_tickers) - set(sp500_tickers)

print(nasdaq_only)
